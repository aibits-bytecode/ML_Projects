{
 "cells": [
  {
   "cell_type": "code",
   "execution_count": 21,
   "id": "a76d038a",
   "metadata": {},
   "outputs": [
    {
     "data": {
      "text/html": [
       "<div>\n",
       "<style scoped>\n",
       "    .dataframe tbody tr th:only-of-type {\n",
       "        vertical-align: middle;\n",
       "    }\n",
       "\n",
       "    .dataframe tbody tr th {\n",
       "        vertical-align: top;\n",
       "    }\n",
       "\n",
       "    .dataframe thead th {\n",
       "        text-align: right;\n",
       "    }\n",
       "</style>\n",
       "<table border=\"1\" class=\"dataframe\">\n",
       "  <thead>\n",
       "    <tr style=\"text-align: right;\">\n",
       "      <th></th>\n",
       "      <th>ID_LAT_LON_YEAR_WEEK</th>\n",
       "      <th>latitude</th>\n",
       "      <th>longitude</th>\n",
       "      <th>year</th>\n",
       "      <th>week_no</th>\n",
       "      <th>SulphurDioxide_SO2_column_number_density</th>\n",
       "      <th>SulphurDioxide_SO2_column_number_density_amf</th>\n",
       "      <th>SulphurDioxide_SO2_slant_column_number_density</th>\n",
       "      <th>SulphurDioxide_cloud_fraction</th>\n",
       "      <th>SulphurDioxide_sensor_azimuth_angle</th>\n",
       "      <th>...</th>\n",
       "      <th>Cloud_cloud_top_height</th>\n",
       "      <th>Cloud_cloud_base_pressure</th>\n",
       "      <th>Cloud_cloud_base_height</th>\n",
       "      <th>Cloud_cloud_optical_depth</th>\n",
       "      <th>Cloud_surface_albedo</th>\n",
       "      <th>Cloud_sensor_azimuth_angle</th>\n",
       "      <th>Cloud_sensor_zenith_angle</th>\n",
       "      <th>Cloud_solar_azimuth_angle</th>\n",
       "      <th>Cloud_solar_zenith_angle</th>\n",
       "      <th>emission</th>\n",
       "    </tr>\n",
       "  </thead>\n",
       "  <tbody>\n",
       "    <tr>\n",
       "      <th>0</th>\n",
       "      <td>ID_-0.510_29.290_2019_00</td>\n",
       "      <td>-0.51</td>\n",
       "      <td>29.29</td>\n",
       "      <td>2019</td>\n",
       "      <td>0</td>\n",
       "      <td>-0.000108</td>\n",
       "      <td>0.603019</td>\n",
       "      <td>-0.000065</td>\n",
       "      <td>0.255668</td>\n",
       "      <td>-98.593887</td>\n",
       "      <td>...</td>\n",
       "      <td>3664.436218</td>\n",
       "      <td>61085.809570</td>\n",
       "      <td>2615.120483</td>\n",
       "      <td>15.568533</td>\n",
       "      <td>0.272292</td>\n",
       "      <td>-12.628986</td>\n",
       "      <td>35.632416</td>\n",
       "      <td>-138.786423</td>\n",
       "      <td>30.752140</td>\n",
       "      <td>3.750994</td>\n",
       "    </tr>\n",
       "    <tr>\n",
       "      <th>1</th>\n",
       "      <td>ID_-0.510_29.290_2019_01</td>\n",
       "      <td>-0.51</td>\n",
       "      <td>29.29</td>\n",
       "      <td>2019</td>\n",
       "      <td>1</td>\n",
       "      <td>0.000021</td>\n",
       "      <td>0.728214</td>\n",
       "      <td>0.000014</td>\n",
       "      <td>0.130988</td>\n",
       "      <td>16.592861</td>\n",
       "      <td>...</td>\n",
       "      <td>3651.190311</td>\n",
       "      <td>66969.478735</td>\n",
       "      <td>3174.572424</td>\n",
       "      <td>8.690601</td>\n",
       "      <td>0.256830</td>\n",
       "      <td>30.359375</td>\n",
       "      <td>39.557633</td>\n",
       "      <td>-145.183930</td>\n",
       "      <td>27.251779</td>\n",
       "      <td>4.025176</td>\n",
       "    </tr>\n",
       "    <tr>\n",
       "      <th>2</th>\n",
       "      <td>ID_-0.510_29.290_2019_02</td>\n",
       "      <td>-0.51</td>\n",
       "      <td>29.29</td>\n",
       "      <td>2019</td>\n",
       "      <td>2</td>\n",
       "      <td>0.000514</td>\n",
       "      <td>0.748199</td>\n",
       "      <td>0.000385</td>\n",
       "      <td>0.110018</td>\n",
       "      <td>72.795837</td>\n",
       "      <td>...</td>\n",
       "      <td>4216.986492</td>\n",
       "      <td>60068.894448</td>\n",
       "      <td>3516.282669</td>\n",
       "      <td>21.103410</td>\n",
       "      <td>0.251101</td>\n",
       "      <td>15.377883</td>\n",
       "      <td>30.401823</td>\n",
       "      <td>-142.519545</td>\n",
       "      <td>26.193296</td>\n",
       "      <td>4.231381</td>\n",
       "    </tr>\n",
       "    <tr>\n",
       "      <th>3</th>\n",
       "      <td>ID_-0.510_29.290_2019_03</td>\n",
       "      <td>-0.51</td>\n",
       "      <td>29.29</td>\n",
       "      <td>2019</td>\n",
       "      <td>3</td>\n",
       "      <td>NaN</td>\n",
       "      <td>NaN</td>\n",
       "      <td>NaN</td>\n",
       "      <td>NaN</td>\n",
       "      <td>NaN</td>\n",
       "      <td>...</td>\n",
       "      <td>5228.507736</td>\n",
       "      <td>51064.547339</td>\n",
       "      <td>4180.973322</td>\n",
       "      <td>15.386899</td>\n",
       "      <td>0.262043</td>\n",
       "      <td>-11.293399</td>\n",
       "      <td>24.380357</td>\n",
       "      <td>-132.665828</td>\n",
       "      <td>28.829155</td>\n",
       "      <td>4.305286</td>\n",
       "    </tr>\n",
       "    <tr>\n",
       "      <th>4</th>\n",
       "      <td>ID_-0.510_29.290_2019_04</td>\n",
       "      <td>-0.51</td>\n",
       "      <td>29.29</td>\n",
       "      <td>2019</td>\n",
       "      <td>4</td>\n",
       "      <td>-0.000079</td>\n",
       "      <td>0.676296</td>\n",
       "      <td>-0.000048</td>\n",
       "      <td>0.121164</td>\n",
       "      <td>4.121269</td>\n",
       "      <td>...</td>\n",
       "      <td>3980.598120</td>\n",
       "      <td>63751.125781</td>\n",
       "      <td>3355.710107</td>\n",
       "      <td>8.114694</td>\n",
       "      <td>0.235847</td>\n",
       "      <td>38.532263</td>\n",
       "      <td>37.392979</td>\n",
       "      <td>-141.509805</td>\n",
       "      <td>22.204612</td>\n",
       "      <td>4.347317</td>\n",
       "    </tr>\n",
       "  </tbody>\n",
       "</table>\n",
       "<p>5 rows × 76 columns</p>\n",
       "</div>"
      ],
      "text/plain": [
       "       ID_LAT_LON_YEAR_WEEK  latitude  longitude  year  week_no  \\\n",
       "0  ID_-0.510_29.290_2019_00     -0.51      29.29  2019        0   \n",
       "1  ID_-0.510_29.290_2019_01     -0.51      29.29  2019        1   \n",
       "2  ID_-0.510_29.290_2019_02     -0.51      29.29  2019        2   \n",
       "3  ID_-0.510_29.290_2019_03     -0.51      29.29  2019        3   \n",
       "4  ID_-0.510_29.290_2019_04     -0.51      29.29  2019        4   \n",
       "\n",
       "   SulphurDioxide_SO2_column_number_density  \\\n",
       "0                                 -0.000108   \n",
       "1                                  0.000021   \n",
       "2                                  0.000514   \n",
       "3                                       NaN   \n",
       "4                                 -0.000079   \n",
       "\n",
       "   SulphurDioxide_SO2_column_number_density_amf  \\\n",
       "0                                      0.603019   \n",
       "1                                      0.728214   \n",
       "2                                      0.748199   \n",
       "3                                           NaN   \n",
       "4                                      0.676296   \n",
       "\n",
       "   SulphurDioxide_SO2_slant_column_number_density  \\\n",
       "0                                       -0.000065   \n",
       "1                                        0.000014   \n",
       "2                                        0.000385   \n",
       "3                                             NaN   \n",
       "4                                       -0.000048   \n",
       "\n",
       "   SulphurDioxide_cloud_fraction  SulphurDioxide_sensor_azimuth_angle  ...  \\\n",
       "0                       0.255668                           -98.593887  ...   \n",
       "1                       0.130988                            16.592861  ...   \n",
       "2                       0.110018                            72.795837  ...   \n",
       "3                            NaN                                  NaN  ...   \n",
       "4                       0.121164                             4.121269  ...   \n",
       "\n",
       "   Cloud_cloud_top_height  Cloud_cloud_base_pressure  Cloud_cloud_base_height  \\\n",
       "0             3664.436218               61085.809570              2615.120483   \n",
       "1             3651.190311               66969.478735              3174.572424   \n",
       "2             4216.986492               60068.894448              3516.282669   \n",
       "3             5228.507736               51064.547339              4180.973322   \n",
       "4             3980.598120               63751.125781              3355.710107   \n",
       "\n",
       "   Cloud_cloud_optical_depth  Cloud_surface_albedo  \\\n",
       "0                  15.568533              0.272292   \n",
       "1                   8.690601              0.256830   \n",
       "2                  21.103410              0.251101   \n",
       "3                  15.386899              0.262043   \n",
       "4                   8.114694              0.235847   \n",
       "\n",
       "   Cloud_sensor_azimuth_angle  Cloud_sensor_zenith_angle  \\\n",
       "0                  -12.628986                  35.632416   \n",
       "1                   30.359375                  39.557633   \n",
       "2                   15.377883                  30.401823   \n",
       "3                  -11.293399                  24.380357   \n",
       "4                   38.532263                  37.392979   \n",
       "\n",
       "   Cloud_solar_azimuth_angle  Cloud_solar_zenith_angle  emission  \n",
       "0                -138.786423                 30.752140  3.750994  \n",
       "1                -145.183930                 27.251779  4.025176  \n",
       "2                -142.519545                 26.193296  4.231381  \n",
       "3                -132.665828                 28.829155  4.305286  \n",
       "4                -141.509805                 22.204612  4.347317  \n",
       "\n",
       "[5 rows x 76 columns]"
      ]
     },
     "execution_count": 21,
     "metadata": {},
     "output_type": "execute_result"
    }
   ],
   "source": [
    "import pandas as pd\n",
    "df_train = pd.read_csv('./data/train.csv')\n",
    "df_train.head(5)"
   ]
  },
  {
   "cell_type": "code",
   "execution_count": 12,
   "id": "74111968",
   "metadata": {},
   "outputs": [
    {
     "data": {
      "text/html": [
       "<div>\n",
       "<style scoped>\n",
       "    .dataframe tbody tr th:only-of-type {\n",
       "        vertical-align: middle;\n",
       "    }\n",
       "\n",
       "    .dataframe tbody tr th {\n",
       "        vertical-align: top;\n",
       "    }\n",
       "\n",
       "    .dataframe thead th {\n",
       "        text-align: right;\n",
       "    }\n",
       "</style>\n",
       "<table border=\"1\" class=\"dataframe\">\n",
       "  <thead>\n",
       "    <tr style=\"text-align: right;\">\n",
       "      <th></th>\n",
       "      <th>ID_LAT_LON_YEAR_WEEK</th>\n",
       "      <th>latitude</th>\n",
       "      <th>longitude</th>\n",
       "      <th>year</th>\n",
       "      <th>week_no</th>\n",
       "      <th>SulphurDioxide_SO2_column_number_density</th>\n",
       "      <th>SulphurDioxide_SO2_column_number_density_amf</th>\n",
       "      <th>SulphurDioxide_SO2_slant_column_number_density</th>\n",
       "      <th>SulphurDioxide_cloud_fraction</th>\n",
       "      <th>SulphurDioxide_sensor_azimuth_angle</th>\n",
       "      <th>...</th>\n",
       "      <th>Cloud_cloud_top_pressure</th>\n",
       "      <th>Cloud_cloud_top_height</th>\n",
       "      <th>Cloud_cloud_base_pressure</th>\n",
       "      <th>Cloud_cloud_base_height</th>\n",
       "      <th>Cloud_cloud_optical_depth</th>\n",
       "      <th>Cloud_surface_albedo</th>\n",
       "      <th>Cloud_sensor_azimuth_angle</th>\n",
       "      <th>Cloud_sensor_zenith_angle</th>\n",
       "      <th>Cloud_solar_azimuth_angle</th>\n",
       "      <th>Cloud_solar_zenith_angle</th>\n",
       "    </tr>\n",
       "  </thead>\n",
       "  <tbody>\n",
       "    <tr>\n",
       "      <th>0</th>\n",
       "      <td>ID_-0.510_29.290_2022_00</td>\n",
       "      <td>-0.51</td>\n",
       "      <td>29.29</td>\n",
       "      <td>2022</td>\n",
       "      <td>0</td>\n",
       "      <td>NaN</td>\n",
       "      <td>NaN</td>\n",
       "      <td>NaN</td>\n",
       "      <td>NaN</td>\n",
       "      <td>NaN</td>\n",
       "      <td>...</td>\n",
       "      <td>36022.027344</td>\n",
       "      <td>8472.313477</td>\n",
       "      <td>41047.937500</td>\n",
       "      <td>7472.313477</td>\n",
       "      <td>7.935617</td>\n",
       "      <td>0.240773</td>\n",
       "      <td>-100.113792</td>\n",
       "      <td>33.697044</td>\n",
       "      <td>-133.047546</td>\n",
       "      <td>33.779583</td>\n",
       "    </tr>\n",
       "    <tr>\n",
       "      <th>1</th>\n",
       "      <td>ID_-0.510_29.290_2022_01</td>\n",
       "      <td>-0.51</td>\n",
       "      <td>29.29</td>\n",
       "      <td>2022</td>\n",
       "      <td>1</td>\n",
       "      <td>0.000456</td>\n",
       "      <td>0.691164</td>\n",
       "      <td>0.000316</td>\n",
       "      <td>0.000000</td>\n",
       "      <td>76.239196</td>\n",
       "      <td>...</td>\n",
       "      <td>48539.737242</td>\n",
       "      <td>6476.147323</td>\n",
       "      <td>54915.708579</td>\n",
       "      <td>5476.147161</td>\n",
       "      <td>11.448437</td>\n",
       "      <td>0.293119</td>\n",
       "      <td>-30.510319</td>\n",
       "      <td>42.402593</td>\n",
       "      <td>-138.632822</td>\n",
       "      <td>31.012380</td>\n",
       "    </tr>\n",
       "    <tr>\n",
       "      <th>2</th>\n",
       "      <td>ID_-0.510_29.290_2022_02</td>\n",
       "      <td>-0.51</td>\n",
       "      <td>29.29</td>\n",
       "      <td>2022</td>\n",
       "      <td>2</td>\n",
       "      <td>0.000161</td>\n",
       "      <td>0.605107</td>\n",
       "      <td>0.000106</td>\n",
       "      <td>0.079870</td>\n",
       "      <td>-42.055341</td>\n",
       "      <td>...</td>\n",
       "      <td>34133.080469</td>\n",
       "      <td>8984.795703</td>\n",
       "      <td>39006.093750</td>\n",
       "      <td>7984.795703</td>\n",
       "      <td>10.753179</td>\n",
       "      <td>0.267130</td>\n",
       "      <td>39.087361</td>\n",
       "      <td>45.936480</td>\n",
       "      <td>-144.784988</td>\n",
       "      <td>26.743361</td>\n",
       "    </tr>\n",
       "    <tr>\n",
       "      <th>3</th>\n",
       "      <td>ID_-0.510_29.290_2022_03</td>\n",
       "      <td>-0.51</td>\n",
       "      <td>29.29</td>\n",
       "      <td>2022</td>\n",
       "      <td>3</td>\n",
       "      <td>0.000350</td>\n",
       "      <td>0.696917</td>\n",
       "      <td>0.000243</td>\n",
       "      <td>0.201028</td>\n",
       "      <td>72.169566</td>\n",
       "      <td>...</td>\n",
       "      <td>50854.991076</td>\n",
       "      <td>6014.724059</td>\n",
       "      <td>57646.368368</td>\n",
       "      <td>5014.724115</td>\n",
       "      <td>11.764556</td>\n",
       "      <td>0.304679</td>\n",
       "      <td>-24.465127</td>\n",
       "      <td>42.140419</td>\n",
       "      <td>-135.027891</td>\n",
       "      <td>29.604774</td>\n",
       "    </tr>\n",
       "    <tr>\n",
       "      <th>4</th>\n",
       "      <td>ID_-0.510_29.290_2022_04</td>\n",
       "      <td>-0.51</td>\n",
       "      <td>29.29</td>\n",
       "      <td>2022</td>\n",
       "      <td>4</td>\n",
       "      <td>-0.000317</td>\n",
       "      <td>0.580527</td>\n",
       "      <td>-0.000184</td>\n",
       "      <td>0.204352</td>\n",
       "      <td>76.190865</td>\n",
       "      <td>...</td>\n",
       "      <td>46594.685145</td>\n",
       "      <td>6849.280477</td>\n",
       "      <td>52896.541873</td>\n",
       "      <td>5849.280394</td>\n",
       "      <td>13.065317</td>\n",
       "      <td>0.284221</td>\n",
       "      <td>-12.907850</td>\n",
       "      <td>30.122641</td>\n",
       "      <td>-135.500119</td>\n",
       "      <td>26.276807</td>\n",
       "    </tr>\n",
       "  </tbody>\n",
       "</table>\n",
       "<p>5 rows × 75 columns</p>\n",
       "</div>"
      ],
      "text/plain": [
       "       ID_LAT_LON_YEAR_WEEK  latitude  longitude  year  week_no  \\\n",
       "0  ID_-0.510_29.290_2022_00     -0.51      29.29  2022        0   \n",
       "1  ID_-0.510_29.290_2022_01     -0.51      29.29  2022        1   \n",
       "2  ID_-0.510_29.290_2022_02     -0.51      29.29  2022        2   \n",
       "3  ID_-0.510_29.290_2022_03     -0.51      29.29  2022        3   \n",
       "4  ID_-0.510_29.290_2022_04     -0.51      29.29  2022        4   \n",
       "\n",
       "   SulphurDioxide_SO2_column_number_density  \\\n",
       "0                                       NaN   \n",
       "1                                  0.000456   \n",
       "2                                  0.000161   \n",
       "3                                  0.000350   \n",
       "4                                 -0.000317   \n",
       "\n",
       "   SulphurDioxide_SO2_column_number_density_amf  \\\n",
       "0                                           NaN   \n",
       "1                                      0.691164   \n",
       "2                                      0.605107   \n",
       "3                                      0.696917   \n",
       "4                                      0.580527   \n",
       "\n",
       "   SulphurDioxide_SO2_slant_column_number_density  \\\n",
       "0                                             NaN   \n",
       "1                                        0.000316   \n",
       "2                                        0.000106   \n",
       "3                                        0.000243   \n",
       "4                                       -0.000184   \n",
       "\n",
       "   SulphurDioxide_cloud_fraction  SulphurDioxide_sensor_azimuth_angle  ...  \\\n",
       "0                            NaN                                  NaN  ...   \n",
       "1                       0.000000                            76.239196  ...   \n",
       "2                       0.079870                           -42.055341  ...   \n",
       "3                       0.201028                            72.169566  ...   \n",
       "4                       0.204352                            76.190865  ...   \n",
       "\n",
       "   Cloud_cloud_top_pressure  Cloud_cloud_top_height  \\\n",
       "0              36022.027344             8472.313477   \n",
       "1              48539.737242             6476.147323   \n",
       "2              34133.080469             8984.795703   \n",
       "3              50854.991076             6014.724059   \n",
       "4              46594.685145             6849.280477   \n",
       "\n",
       "   Cloud_cloud_base_pressure  Cloud_cloud_base_height  \\\n",
       "0               41047.937500              7472.313477   \n",
       "1               54915.708579              5476.147161   \n",
       "2               39006.093750              7984.795703   \n",
       "3               57646.368368              5014.724115   \n",
       "4               52896.541873              5849.280394   \n",
       "\n",
       "   Cloud_cloud_optical_depth  Cloud_surface_albedo  \\\n",
       "0                   7.935617              0.240773   \n",
       "1                  11.448437              0.293119   \n",
       "2                  10.753179              0.267130   \n",
       "3                  11.764556              0.304679   \n",
       "4                  13.065317              0.284221   \n",
       "\n",
       "   Cloud_sensor_azimuth_angle  Cloud_sensor_zenith_angle  \\\n",
       "0                 -100.113792                  33.697044   \n",
       "1                  -30.510319                  42.402593   \n",
       "2                   39.087361                  45.936480   \n",
       "3                  -24.465127                  42.140419   \n",
       "4                  -12.907850                  30.122641   \n",
       "\n",
       "   Cloud_solar_azimuth_angle  Cloud_solar_zenith_angle  \n",
       "0                -133.047546                 33.779583  \n",
       "1                -138.632822                 31.012380  \n",
       "2                -144.784988                 26.743361  \n",
       "3                -135.027891                 29.604774  \n",
       "4                -135.500119                 26.276807  \n",
       "\n",
       "[5 rows x 75 columns]"
      ]
     },
     "execution_count": 12,
     "metadata": {},
     "output_type": "execute_result"
    }
   ],
   "source": [
    "df_test = pd.read_csv('./data/test.csv')\n",
    "df_test.head()"
   ]
  },
  {
   "cell_type": "code",
   "execution_count": 13,
   "id": "c4051208",
   "metadata": {},
   "outputs": [
    {
     "data": {
      "text/html": [
       "<div>\n",
       "<style scoped>\n",
       "    .dataframe tbody tr th:only-of-type {\n",
       "        vertical-align: middle;\n",
       "    }\n",
       "\n",
       "    .dataframe tbody tr th {\n",
       "        vertical-align: top;\n",
       "    }\n",
       "\n",
       "    .dataframe thead th {\n",
       "        text-align: right;\n",
       "    }\n",
       "</style>\n",
       "<table border=\"1\" class=\"dataframe\">\n",
       "  <thead>\n",
       "    <tr style=\"text-align: right;\">\n",
       "      <th></th>\n",
       "      <th>ID_LAT_LON_YEAR_WEEK</th>\n",
       "      <th>emission</th>\n",
       "    </tr>\n",
       "  </thead>\n",
       "  <tbody>\n",
       "    <tr>\n",
       "      <th>0</th>\n",
       "      <td>ID_-0.510_29.290_2022_00</td>\n",
       "      <td>81.94</td>\n",
       "    </tr>\n",
       "    <tr>\n",
       "      <th>1</th>\n",
       "      <td>ID_-0.510_29.290_2022_01</td>\n",
       "      <td>81.94</td>\n",
       "    </tr>\n",
       "    <tr>\n",
       "      <th>2</th>\n",
       "      <td>ID_-0.510_29.290_2022_02</td>\n",
       "      <td>81.94</td>\n",
       "    </tr>\n",
       "    <tr>\n",
       "      <th>3</th>\n",
       "      <td>ID_-0.510_29.290_2022_03</td>\n",
       "      <td>81.94</td>\n",
       "    </tr>\n",
       "    <tr>\n",
       "      <th>4</th>\n",
       "      <td>ID_-0.510_29.290_2022_04</td>\n",
       "      <td>81.94</td>\n",
       "    </tr>\n",
       "  </tbody>\n",
       "</table>\n",
       "</div>"
      ],
      "text/plain": [
       "       ID_LAT_LON_YEAR_WEEK  emission\n",
       "0  ID_-0.510_29.290_2022_00     81.94\n",
       "1  ID_-0.510_29.290_2022_01     81.94\n",
       "2  ID_-0.510_29.290_2022_02     81.94\n",
       "3  ID_-0.510_29.290_2022_03     81.94\n",
       "4  ID_-0.510_29.290_2022_04     81.94"
      ]
     },
     "execution_count": 13,
     "metadata": {},
     "output_type": "execute_result"
    }
   ],
   "source": [
    "submission = pd.read_csv('./data/sample_submission.csv')\n",
    "submission.head()"
   ]
  },
  {
   "cell_type": "code",
   "execution_count": 9,
   "id": "769a4054",
   "metadata": {},
   "outputs": [
    {
     "data": {
      "text/plain": [
       "(24353, 2)"
      ]
     },
     "execution_count": 9,
     "metadata": {},
     "output_type": "execute_result"
    }
   ],
   "source": [
    "submission.shape"
   ]
  },
  {
   "cell_type": "code",
   "execution_count": 22,
   "id": "09d77237",
   "metadata": {},
   "outputs": [
    {
     "data": {
      "text/plain": [
       "(79023, 76)"
      ]
     },
     "execution_count": 22,
     "metadata": {},
     "output_type": "execute_result"
    }
   ],
   "source": [
    "df_train.shape"
   ]
  },
  {
   "cell_type": "code",
   "execution_count": 23,
   "id": "626e4373",
   "metadata": {},
   "outputs": [
    {
     "data": {
      "text/plain": [
       "ID_LAT_LON_YEAR_WEEK            0\n",
       "latitude                        0\n",
       "longitude                       0\n",
       "year                            0\n",
       "week_no                         0\n",
       "                             ... \n",
       "Cloud_sensor_azimuth_angle    484\n",
       "Cloud_sensor_zenith_angle     484\n",
       "Cloud_solar_azimuth_angle     484\n",
       "Cloud_solar_zenith_angle      484\n",
       "emission                        0\n",
       "Length: 76, dtype: int64"
      ]
     },
     "execution_count": 23,
     "metadata": {},
     "output_type": "execute_result"
    }
   ],
   "source": [
    "df_train.isna().sum()"
   ]
  },
  {
   "cell_type": "code",
   "execution_count": 27,
   "id": "187bb206",
   "metadata": {},
   "outputs": [],
   "source": [
    "df_train_phase1 = df_train"
   ]
  },
  {
   "cell_type": "code",
   "execution_count": 28,
   "id": "ce48d543",
   "metadata": {},
   "outputs": [],
   "source": [
    "# Replace nan values with median\n",
    "df_train_phase1.Cloud_sensor_azimuth_angle.fillna(\n",
    "    df_train_phase1.Cloud_sensor_azimuth_angle.median(), inplace=True)\n",
    "df_train_phase1.Cloud_sensor_zenith_angle.fillna(\n",
    "    df_train_phase1.Cloud_sensor_zenith_angle.median(), inplace=True)\n",
    "df_train_phase1.Cloud_solar_azimuth_angle.fillna(\n",
    "    df_train_phase1.Cloud_solar_azimuth_angle.median(), inplace=True)\n",
    "df_train_phase1.Cloud_solar_zenith_angle.fillna(\n",
    "    df_train_phase1.Cloud_solar_zenith_angle.median(), inplace=True)"
   ]
  },
  {
   "cell_type": "code",
   "execution_count": 29,
   "id": "d19a74ea",
   "metadata": {},
   "outputs": [
    {
     "data": {
      "text/plain": [
       "ID_LAT_LON_YEAR_WEEK          0\n",
       "latitude                      0\n",
       "longitude                     0\n",
       "year                          0\n",
       "week_no                       0\n",
       "                             ..\n",
       "Cloud_sensor_azimuth_angle    0\n",
       "Cloud_sensor_zenith_angle     0\n",
       "Cloud_solar_azimuth_angle     0\n",
       "Cloud_solar_zenith_angle      0\n",
       "emission                      0\n",
       "Length: 76, dtype: int64"
      ]
     },
     "execution_count": 29,
     "metadata": {},
     "output_type": "execute_result"
    }
   ],
   "source": [
    "df_train_phase1.isna().sum()"
   ]
  },
  {
   "cell_type": "code",
   "execution_count": 40,
   "id": "2aa402be",
   "metadata": {},
   "outputs": [
    {
     "data": {
      "text/plain": [
       "['ID_LAT_LON_YEAR_WEEK']"
      ]
     },
     "execution_count": 40,
     "metadata": {},
     "output_type": "execute_result"
    }
   ],
   "source": [
    "def get_non_numeric_columns(df):\n",
    "    non_numeric_columns = []\n",
    "    for column in df.columns:\n",
    "        if not pd.api.types.is_numeric_dtype(df[column]):\n",
    "            non_numeric_columns.append(column)\n",
    "    return non_numeric_columns\n",
    "\n",
    "get_non_numeric_columns(df_train_phase1)"
   ]
  },
  {
   "cell_type": "code",
   "execution_count": 36,
   "id": "ebe806f0",
   "metadata": {},
   "outputs": [
    {
     "data": {
      "text/plain": [
       "CarbonMonoxide_solar_azimuth_angle                         float64\n",
       "CarbonMonoxide_solar_zenith_angle                          float64\n",
       "NitrogenDioxide_NO2_column_number_density                  float64\n",
       "NitrogenDioxide_tropospheric_NO2_column_number_density     float64\n",
       "NitrogenDioxide_stratospheric_NO2_column_number_density    float64\n",
       "NitrogenDioxide_NO2_slant_column_number_density            float64\n",
       "NitrogenDioxide_tropopause_pressure                        float64\n",
       "NitrogenDioxide_absorbing_aerosol_index                    float64\n",
       "NitrogenDioxide_cloud_fraction                             float64\n",
       "NitrogenDioxide_sensor_altitude                            float64\n",
       "dtype: object"
      ]
     },
     "execution_count": 36,
     "metadata": {},
     "output_type": "execute_result"
    }
   ],
   "source": [
    "# get Year_month, lat, lon from ID_LAT_LON_YEAR_WEEK"
   ]
  },
  {
   "cell_type": "code",
   "execution_count": 121,
   "id": "624cdf1e",
   "metadata": {},
   "outputs": [],
   "source": [
    "import re\n",
    "\n",
    "def extract_info_from_string(input_string):\n",
    "    # Define the regular expression pattern\n",
    "    pattern = r'ID_(-?\\d+\\.\\d+)_(\\d+\\.\\d+)_(\\d+)_(\\d+)'\n",
    "\n",
    "    # Use the re.search() function to find the first occurrence of the pattern in the input string\n",
    "    match = re.search(pattern, input_string)\n",
    "\n",
    "    # Check if the pattern was found and extract the matched groups\n",
    "    if match:\n",
    "        lat = float(match.group(1))\n",
    "        lon = float(match.group(2))\n",
    "        year = int(match.group(3))\n",
    "        week = int(match.group(4))\n",
    "        return lat, lon, year, week\n",
    "    else:\n",
    "        return None"
   ]
  },
  {
   "cell_type": "code",
   "execution_count": 122,
   "id": "1d506264",
   "metadata": {},
   "outputs": [],
   "source": [
    "df_train_phase2 = df_train_phase1[['ID_LAT_LON_YEAR_WEEK','emission']]"
   ]
  },
  {
   "cell_type": "code",
   "execution_count": 123,
   "id": "a0c5ca5c",
   "metadata": {},
   "outputs": [
    {
     "data": {
      "text/plain": [
       "(79023, 2)"
      ]
     },
     "execution_count": 123,
     "metadata": {},
     "output_type": "execute_result"
    }
   ],
   "source": [
    "df_train_phase2.shape"
   ]
  },
  {
   "cell_type": "code",
   "execution_count": 124,
   "id": "330c5ebd",
   "metadata": {},
   "outputs": [
    {
     "data": {
      "text/plain": [
       "0"
      ]
     },
     "execution_count": 124,
     "metadata": {},
     "output_type": "execute_result"
    }
   ],
   "source": [
    "extract_info_from_string('ID_-0.510_29.290_2019_00')[3]"
   ]
  },
  {
   "cell_type": "code",
   "execution_count": 125,
   "id": "0905bc66",
   "metadata": {},
   "outputs": [
    {
     "name": "stderr",
     "output_type": "stream",
     "text": [
      "/var/folders/bt/yzv722jd4ln6fj7873tf5mn00000gn/T/ipykernel_65927/4277847899.py:1: SettingWithCopyWarning: \n",
      "A value is trying to be set on a copy of a slice from a DataFrame.\n",
      "Try using .loc[row_indexer,col_indexer] = value instead\n",
      "\n",
      "See the caveats in the documentation: https://pandas.pydata.org/pandas-docs/stable/user_guide/indexing.html#returning-a-view-versus-a-copy\n",
      "  df_train_phase2['Year'] = df_train_phase2.ID_LAT_LON_YEAR_WEEK.apply(lambda x : extract_info_from_string(x)[2])\n"
     ]
    }
   ],
   "source": [
    "df_train_phase2['Year'] = df_train_phase2.ID_LAT_LON_YEAR_WEEK.apply(lambda x : extract_info_from_string(x)[2])"
   ]
  },
  {
   "cell_type": "code",
   "execution_count": 126,
   "id": "380c86af",
   "metadata": {},
   "outputs": [
    {
     "name": "stderr",
     "output_type": "stream",
     "text": [
      "/var/folders/bt/yzv722jd4ln6fj7873tf5mn00000gn/T/ipykernel_65927/570370210.py:1: SettingWithCopyWarning: \n",
      "A value is trying to be set on a copy of a slice from a DataFrame.\n",
      "Try using .loc[row_indexer,col_indexer] = value instead\n",
      "\n",
      "See the caveats in the documentation: https://pandas.pydata.org/pandas-docs/stable/user_guide/indexing.html#returning-a-view-versus-a-copy\n",
      "  df_train_phase2['Lat'] = df_train_phase2.ID_LAT_LON_YEAR_WEEK.apply(lambda x : extract_info_from_string(x)[0])\n",
      "/var/folders/bt/yzv722jd4ln6fj7873tf5mn00000gn/T/ipykernel_65927/570370210.py:2: SettingWithCopyWarning: \n",
      "A value is trying to be set on a copy of a slice from a DataFrame.\n",
      "Try using .loc[row_indexer,col_indexer] = value instead\n",
      "\n",
      "See the caveats in the documentation: https://pandas.pydata.org/pandas-docs/stable/user_guide/indexing.html#returning-a-view-versus-a-copy\n",
      "  df_train_phase2['Lon'] = df_train_phase2.ID_LAT_LON_YEAR_WEEK.apply(lambda x : extract_info_from_string(x)[1])\n",
      "/var/folders/bt/yzv722jd4ln6fj7873tf5mn00000gn/T/ipykernel_65927/570370210.py:3: SettingWithCopyWarning: \n",
      "A value is trying to be set on a copy of a slice from a DataFrame.\n",
      "Try using .loc[row_indexer,col_indexer] = value instead\n",
      "\n",
      "See the caveats in the documentation: https://pandas.pydata.org/pandas-docs/stable/user_guide/indexing.html#returning-a-view-versus-a-copy\n",
      "  df_train_phase2['Week'] = df_train_phase2.ID_LAT_LON_YEAR_WEEK.apply(lambda x : extract_info_from_string(x)[3])\n"
     ]
    }
   ],
   "source": [
    "df_train_phase2['Lat'] = df_train_phase2.ID_LAT_LON_YEAR_WEEK.apply(lambda x : extract_info_from_string(x)[0])\n",
    "df_train_phase2['Lon'] = df_train_phase2.ID_LAT_LON_YEAR_WEEK.apply(lambda x : extract_info_from_string(x)[1])\n",
    "df_train_phase2['Week'] = df_train_phase2.ID_LAT_LON_YEAR_WEEK.apply(lambda x : extract_info_from_string(x)[3])"
   ]
  },
  {
   "cell_type": "code",
   "execution_count": 127,
   "id": "247a1f08",
   "metadata": {
    "scrolled": true
   },
   "outputs": [
    {
     "data": {
      "text/html": [
       "<div>\n",
       "<style scoped>\n",
       "    .dataframe tbody tr th:only-of-type {\n",
       "        vertical-align: middle;\n",
       "    }\n",
       "\n",
       "    .dataframe tbody tr th {\n",
       "        vertical-align: top;\n",
       "    }\n",
       "\n",
       "    .dataframe thead th {\n",
       "        text-align: right;\n",
       "    }\n",
       "</style>\n",
       "<table border=\"1\" class=\"dataframe\">\n",
       "  <thead>\n",
       "    <tr style=\"text-align: right;\">\n",
       "      <th></th>\n",
       "      <th>ID_LAT_LON_YEAR_WEEK</th>\n",
       "      <th>emission</th>\n",
       "      <th>Year</th>\n",
       "      <th>Lat</th>\n",
       "      <th>Lon</th>\n",
       "      <th>Week</th>\n",
       "    </tr>\n",
       "  </thead>\n",
       "  <tbody>\n",
       "    <tr>\n",
       "      <th>0</th>\n",
       "      <td>ID_-0.510_29.290_2019_00</td>\n",
       "      <td>3.750994</td>\n",
       "      <td>2019</td>\n",
       "      <td>-0.51</td>\n",
       "      <td>29.29</td>\n",
       "      <td>0</td>\n",
       "    </tr>\n",
       "    <tr>\n",
       "      <th>1</th>\n",
       "      <td>ID_-0.510_29.290_2019_01</td>\n",
       "      <td>4.025176</td>\n",
       "      <td>2019</td>\n",
       "      <td>-0.51</td>\n",
       "      <td>29.29</td>\n",
       "      <td>1</td>\n",
       "    </tr>\n",
       "    <tr>\n",
       "      <th>2</th>\n",
       "      <td>ID_-0.510_29.290_2019_02</td>\n",
       "      <td>4.231381</td>\n",
       "      <td>2019</td>\n",
       "      <td>-0.51</td>\n",
       "      <td>29.29</td>\n",
       "      <td>2</td>\n",
       "    </tr>\n",
       "    <tr>\n",
       "      <th>3</th>\n",
       "      <td>ID_-0.510_29.290_2019_03</td>\n",
       "      <td>4.305286</td>\n",
       "      <td>2019</td>\n",
       "      <td>-0.51</td>\n",
       "      <td>29.29</td>\n",
       "      <td>3</td>\n",
       "    </tr>\n",
       "    <tr>\n",
       "      <th>4</th>\n",
       "      <td>ID_-0.510_29.290_2019_04</td>\n",
       "      <td>4.347317</td>\n",
       "      <td>2019</td>\n",
       "      <td>-0.51</td>\n",
       "      <td>29.29</td>\n",
       "      <td>4</td>\n",
       "    </tr>\n",
       "  </tbody>\n",
       "</table>\n",
       "</div>"
      ],
      "text/plain": [
       "       ID_LAT_LON_YEAR_WEEK  emission  Year   Lat    Lon  Week\n",
       "0  ID_-0.510_29.290_2019_00  3.750994  2019 -0.51  29.29     0\n",
       "1  ID_-0.510_29.290_2019_01  4.025176  2019 -0.51  29.29     1\n",
       "2  ID_-0.510_29.290_2019_02  4.231381  2019 -0.51  29.29     2\n",
       "3  ID_-0.510_29.290_2019_03  4.305286  2019 -0.51  29.29     3\n",
       "4  ID_-0.510_29.290_2019_04  4.347317  2019 -0.51  29.29     4"
      ]
     },
     "execution_count": 127,
     "metadata": {},
     "output_type": "execute_result"
    }
   ],
   "source": [
    "df_train_phase2.head()"
   ]
  },
  {
   "cell_type": "code",
   "execution_count": 128,
   "id": "bd1d4a04",
   "metadata": {},
   "outputs": [
    {
     "name": "stderr",
     "output_type": "stream",
     "text": [
      "/var/folders/bt/yzv722jd4ln6fj7873tf5mn00000gn/T/ipykernel_65927/4166161291.py:1: SettingWithCopyWarning: \n",
      "A value is trying to be set on a copy of a slice from a DataFrame.\n",
      "Try using .loc[row_indexer,col_indexer] = value instead\n",
      "\n",
      "See the caveats in the documentation: https://pandas.pydata.org/pandas-docs/stable/user_guide/indexing.html#returning-a-view-versus-a-copy\n",
      "  df_train_phase2['Year'] = df_train_phase2['Year'].astype(str)\n",
      "/var/folders/bt/yzv722jd4ln6fj7873tf5mn00000gn/T/ipykernel_65927/4166161291.py:2: SettingWithCopyWarning: \n",
      "A value is trying to be set on a copy of a slice from a DataFrame.\n",
      "Try using .loc[row_indexer,col_indexer] = value instead\n",
      "\n",
      "See the caveats in the documentation: https://pandas.pydata.org/pandas-docs/stable/user_guide/indexing.html#returning-a-view-versus-a-copy\n",
      "  df_train_phase2['Week'] = df_train_phase2['Week'].astype(str)\n"
     ]
    }
   ],
   "source": [
    "df_train_phase2['Year'] = df_train_phase2['Year'].astype(str)\n",
    "df_train_phase2['Week'] = df_train_phase2['Week'].astype(str)"
   ]
  },
  {
   "cell_type": "code",
   "execution_count": 129,
   "id": "07184eb6",
   "metadata": {},
   "outputs": [
    {
     "data": {
      "text/html": [
       "<div>\n",
       "<style scoped>\n",
       "    .dataframe tbody tr th:only-of-type {\n",
       "        vertical-align: middle;\n",
       "    }\n",
       "\n",
       "    .dataframe tbody tr th {\n",
       "        vertical-align: top;\n",
       "    }\n",
       "\n",
       "    .dataframe thead th {\n",
       "        text-align: right;\n",
       "    }\n",
       "</style>\n",
       "<table border=\"1\" class=\"dataframe\">\n",
       "  <thead>\n",
       "    <tr style=\"text-align: right;\">\n",
       "      <th></th>\n",
       "      <th>ID_LAT_LON_YEAR_WEEK</th>\n",
       "      <th>emission</th>\n",
       "      <th>Year</th>\n",
       "      <th>Lat</th>\n",
       "      <th>Lon</th>\n",
       "      <th>Week</th>\n",
       "    </tr>\n",
       "  </thead>\n",
       "  <tbody>\n",
       "    <tr>\n",
       "      <th>0</th>\n",
       "      <td>ID_-0.510_29.290_2019_00</td>\n",
       "      <td>3.750994</td>\n",
       "      <td>2019</td>\n",
       "      <td>-0.51</td>\n",
       "      <td>29.29</td>\n",
       "      <td>0</td>\n",
       "    </tr>\n",
       "    <tr>\n",
       "      <th>1</th>\n",
       "      <td>ID_-0.510_29.290_2019_01</td>\n",
       "      <td>4.025176</td>\n",
       "      <td>2019</td>\n",
       "      <td>-0.51</td>\n",
       "      <td>29.29</td>\n",
       "      <td>1</td>\n",
       "    </tr>\n",
       "    <tr>\n",
       "      <th>2</th>\n",
       "      <td>ID_-0.510_29.290_2019_02</td>\n",
       "      <td>4.231381</td>\n",
       "      <td>2019</td>\n",
       "      <td>-0.51</td>\n",
       "      <td>29.29</td>\n",
       "      <td>2</td>\n",
       "    </tr>\n",
       "    <tr>\n",
       "      <th>3</th>\n",
       "      <td>ID_-0.510_29.290_2019_03</td>\n",
       "      <td>4.305286</td>\n",
       "      <td>2019</td>\n",
       "      <td>-0.51</td>\n",
       "      <td>29.29</td>\n",
       "      <td>3</td>\n",
       "    </tr>\n",
       "    <tr>\n",
       "      <th>4</th>\n",
       "      <td>ID_-0.510_29.290_2019_04</td>\n",
       "      <td>4.347317</td>\n",
       "      <td>2019</td>\n",
       "      <td>-0.51</td>\n",
       "      <td>29.29</td>\n",
       "      <td>4</td>\n",
       "    </tr>\n",
       "    <tr>\n",
       "      <th>5</th>\n",
       "      <td>ID_-0.510_29.290_2019_05</td>\n",
       "      <td>4.310819</td>\n",
       "      <td>2019</td>\n",
       "      <td>-0.51</td>\n",
       "      <td>29.29</td>\n",
       "      <td>5</td>\n",
       "    </tr>\n",
       "    <tr>\n",
       "      <th>6</th>\n",
       "      <td>ID_-0.510_29.290_2019_06</td>\n",
       "      <td>4.269334</td>\n",
       "      <td>2019</td>\n",
       "      <td>-0.51</td>\n",
       "      <td>29.29</td>\n",
       "      <td>6</td>\n",
       "    </tr>\n",
       "    <tr>\n",
       "      <th>7</th>\n",
       "      <td>ID_-0.510_29.290_2019_07</td>\n",
       "      <td>4.251361</td>\n",
       "      <td>2019</td>\n",
       "      <td>-0.51</td>\n",
       "      <td>29.29</td>\n",
       "      <td>7</td>\n",
       "    </tr>\n",
       "    <tr>\n",
       "      <th>8</th>\n",
       "      <td>ID_-0.510_29.290_2019_08</td>\n",
       "      <td>4.281937</td>\n",
       "      <td>2019</td>\n",
       "      <td>-0.51</td>\n",
       "      <td>29.29</td>\n",
       "      <td>8</td>\n",
       "    </tr>\n",
       "    <tr>\n",
       "      <th>9</th>\n",
       "      <td>ID_-0.510_29.290_2019_09</td>\n",
       "      <td>4.352933</td>\n",
       "      <td>2019</td>\n",
       "      <td>-0.51</td>\n",
       "      <td>29.29</td>\n",
       "      <td>9</td>\n",
       "    </tr>\n",
       "    <tr>\n",
       "      <th>10</th>\n",
       "      <td>ID_-0.510_29.290_2019_10</td>\n",
       "      <td>4.305424</td>\n",
       "      <td>2019</td>\n",
       "      <td>-0.51</td>\n",
       "      <td>29.29</td>\n",
       "      <td>10</td>\n",
       "    </tr>\n",
       "    <tr>\n",
       "      <th>11</th>\n",
       "      <td>ID_-0.510_29.290_2019_11</td>\n",
       "      <td>4.237399</td>\n",
       "      <td>2019</td>\n",
       "      <td>-0.51</td>\n",
       "      <td>29.29</td>\n",
       "      <td>11</td>\n",
       "    </tr>\n",
       "  </tbody>\n",
       "</table>\n",
       "</div>"
      ],
      "text/plain": [
       "        ID_LAT_LON_YEAR_WEEK  emission  Year   Lat    Lon Week\n",
       "0   ID_-0.510_29.290_2019_00  3.750994  2019 -0.51  29.29    0\n",
       "1   ID_-0.510_29.290_2019_01  4.025176  2019 -0.51  29.29    1\n",
       "2   ID_-0.510_29.290_2019_02  4.231381  2019 -0.51  29.29    2\n",
       "3   ID_-0.510_29.290_2019_03  4.305286  2019 -0.51  29.29    3\n",
       "4   ID_-0.510_29.290_2019_04  4.347317  2019 -0.51  29.29    4\n",
       "5   ID_-0.510_29.290_2019_05  4.310819  2019 -0.51  29.29    5\n",
       "6   ID_-0.510_29.290_2019_06  4.269334  2019 -0.51  29.29    6\n",
       "7   ID_-0.510_29.290_2019_07  4.251361  2019 -0.51  29.29    7\n",
       "8   ID_-0.510_29.290_2019_08  4.281937  2019 -0.51  29.29    8\n",
       "9   ID_-0.510_29.290_2019_09  4.352933  2019 -0.51  29.29    9\n",
       "10  ID_-0.510_29.290_2019_10  4.305424  2019 -0.51  29.29   10\n",
       "11  ID_-0.510_29.290_2019_11  4.237399  2019 -0.51  29.29   11"
      ]
     },
     "execution_count": 129,
     "metadata": {},
     "output_type": "execute_result"
    }
   ],
   "source": [
    "df_train_phase2.head(12)"
   ]
  },
  {
   "cell_type": "code",
   "execution_count": 130,
   "id": "7b510cad",
   "metadata": {},
   "outputs": [
    {
     "name": "stderr",
     "output_type": "stream",
     "text": [
      "/var/folders/bt/yzv722jd4ln6fj7873tf5mn00000gn/T/ipykernel_65927/1053853445.py:2: SettingWithCopyWarning: \n",
      "A value is trying to be set on a copy of a slice from a DataFrame.\n",
      "Try using .loc[row_indexer,col_indexer] = value instead\n",
      "\n",
      "See the caveats in the documentation: https://pandas.pydata.org/pandas-docs/stable/user_guide/indexing.html#returning-a-view-versus-a-copy\n",
      "  df_train_phase2['Year_Week'] = df_train_phase2['Year'] + '-W' + df_train_phase2['Week'] + '-1'  # 1 represents Monday\n",
      "/var/folders/bt/yzv722jd4ln6fj7873tf5mn00000gn/T/ipykernel_65927/1053853445.py:5: SettingWithCopyWarning: \n",
      "A value is trying to be set on a copy of a slice from a DataFrame.\n",
      "Try using .loc[row_indexer,col_indexer] = value instead\n",
      "\n",
      "See the caveats in the documentation: https://pandas.pydata.org/pandas-docs/stable/user_guide/indexing.html#returning-a-view-versus-a-copy\n",
      "  df_train_phase2['Date'] = pd.to_datetime(df_train_phase2['Year_Week'], format='%Y-W%U-%w')\n",
      "/var/folders/bt/yzv722jd4ln6fj7873tf5mn00000gn/T/ipykernel_65927/1053853445.py:8: SettingWithCopyWarning: \n",
      "A value is trying to be set on a copy of a slice from a DataFrame\n",
      "\n",
      "See the caveats in the documentation: https://pandas.pydata.org/pandas-docs/stable/user_guide/indexing.html#returning-a-view-versus-a-copy\n",
      "  df_train_phase2.drop(columns=['Year_Week'], inplace=True)\n"
     ]
    }
   ],
   "source": [
    "# Concatenate 'Year' and 'Week' with a specific day (e.g., Monday) to create a full date string\n",
    "df_train_phase2['Year_Week'] = df_train_phase2['Year'] + '-W' + df_train_phase2['Week'] + '-1'  # 1 represents Monday\n",
    "\n",
    "# Convert the 'Year_Week' string to a pandas DateTime object\n",
    "df_train_phase2['Date'] = pd.to_datetime(df_train_phase2['Year_Week'], format='%Y-W%U-%w')\n",
    "\n",
    "# Drop the temporary 'Year_Week' column if you don't need it anymore\n",
    "df_train_phase2.drop(columns=['Year_Week'], inplace=True)"
   ]
  },
  {
   "cell_type": "code",
   "execution_count": 131,
   "id": "dfd21aa5",
   "metadata": {},
   "outputs": [
    {
     "data": {
      "text/html": [
       "<div>\n",
       "<style scoped>\n",
       "    .dataframe tbody tr th:only-of-type {\n",
       "        vertical-align: middle;\n",
       "    }\n",
       "\n",
       "    .dataframe tbody tr th {\n",
       "        vertical-align: top;\n",
       "    }\n",
       "\n",
       "    .dataframe thead th {\n",
       "        text-align: right;\n",
       "    }\n",
       "</style>\n",
       "<table border=\"1\" class=\"dataframe\">\n",
       "  <thead>\n",
       "    <tr style=\"text-align: right;\">\n",
       "      <th></th>\n",
       "      <th>ID_LAT_LON_YEAR_WEEK</th>\n",
       "      <th>emission</th>\n",
       "      <th>Year</th>\n",
       "      <th>Lat</th>\n",
       "      <th>Lon</th>\n",
       "      <th>Week</th>\n",
       "      <th>Date</th>\n",
       "    </tr>\n",
       "  </thead>\n",
       "  <tbody>\n",
       "    <tr>\n",
       "      <th>0</th>\n",
       "      <td>ID_-0.510_29.290_2019_00</td>\n",
       "      <td>3.750994</td>\n",
       "      <td>2019</td>\n",
       "      <td>-0.51</td>\n",
       "      <td>29.29</td>\n",
       "      <td>0</td>\n",
       "      <td>2018-12-31</td>\n",
       "    </tr>\n",
       "    <tr>\n",
       "      <th>1</th>\n",
       "      <td>ID_-0.510_29.290_2019_01</td>\n",
       "      <td>4.025176</td>\n",
       "      <td>2019</td>\n",
       "      <td>-0.51</td>\n",
       "      <td>29.29</td>\n",
       "      <td>1</td>\n",
       "      <td>2019-01-07</td>\n",
       "    </tr>\n",
       "    <tr>\n",
       "      <th>2</th>\n",
       "      <td>ID_-0.510_29.290_2019_02</td>\n",
       "      <td>4.231381</td>\n",
       "      <td>2019</td>\n",
       "      <td>-0.51</td>\n",
       "      <td>29.29</td>\n",
       "      <td>2</td>\n",
       "      <td>2019-01-14</td>\n",
       "    </tr>\n",
       "    <tr>\n",
       "      <th>3</th>\n",
       "      <td>ID_-0.510_29.290_2019_03</td>\n",
       "      <td>4.305286</td>\n",
       "      <td>2019</td>\n",
       "      <td>-0.51</td>\n",
       "      <td>29.29</td>\n",
       "      <td>3</td>\n",
       "      <td>2019-01-21</td>\n",
       "    </tr>\n",
       "    <tr>\n",
       "      <th>4</th>\n",
       "      <td>ID_-0.510_29.290_2019_04</td>\n",
       "      <td>4.347317</td>\n",
       "      <td>2019</td>\n",
       "      <td>-0.51</td>\n",
       "      <td>29.29</td>\n",
       "      <td>4</td>\n",
       "      <td>2019-01-28</td>\n",
       "    </tr>\n",
       "  </tbody>\n",
       "</table>\n",
       "</div>"
      ],
      "text/plain": [
       "       ID_LAT_LON_YEAR_WEEK  emission  Year   Lat    Lon Week       Date\n",
       "0  ID_-0.510_29.290_2019_00  3.750994  2019 -0.51  29.29    0 2018-12-31\n",
       "1  ID_-0.510_29.290_2019_01  4.025176  2019 -0.51  29.29    1 2019-01-07\n",
       "2  ID_-0.510_29.290_2019_02  4.231381  2019 -0.51  29.29    2 2019-01-14\n",
       "3  ID_-0.510_29.290_2019_03  4.305286  2019 -0.51  29.29    3 2019-01-21\n",
       "4  ID_-0.510_29.290_2019_04  4.347317  2019 -0.51  29.29    4 2019-01-28"
      ]
     },
     "execution_count": 131,
     "metadata": {},
     "output_type": "execute_result"
    }
   ],
   "source": [
    "df_train_phase2.head()"
   ]
  },
  {
   "cell_type": "code",
   "execution_count": 150,
   "id": "13d8098f",
   "metadata": {},
   "outputs": [
    {
     "data": {
      "text/plain": [
       "[<matplotlib.lines.Line2D at 0x2d8d41610>]"
      ]
     },
     "execution_count": 150,
     "metadata": {},
     "output_type": "execute_result"
    },
    {
     "data": {
      "image/png": "[encoded data removed]",
      "text/plain": [
       "<Figure size 640x480 with 1 Axes>"
      ]
     },
     "metadata": {},
     "output_type": "display_data"
    }
   ],
   "source": [
    "import matplotlib.pyplot as plt\n",
    "plt.plot(df_train_phase2.Lat, df_train_phase2.Lon)"
   ]
  },
  {
   "cell_type": "code",
   "execution_count": null,
   "id": "86b43df5",
   "metadata": {},
   "outputs": [],
   "source": []
  },
  {
   "cell_type": "code",
   "execution_count": 132,
   "id": "f82cef8f",
   "metadata": {},
   "outputs": [],
   "source": [
    "df_train_phase2.set_index('Date', inplace=True)"
   ]
  },
  {
   "cell_type": "code",
   "execution_count": 143,
   "id": "eebe9495",
   "metadata": {},
   "outputs": [
    {
     "name": "stderr",
     "output_type": "stream",
     "text": [
      "/var/folders/bt/yzv722jd4ln6fj7873tf5mn00000gn/T/ipykernel_65927/2915382401.py:1: SettingWithCopyWarning: \n",
      "A value is trying to be set on a copy of a slice from a DataFrame\n",
      "\n",
      "See the caveats in the documentation: https://pandas.pydata.org/pandas-docs/stable/user_guide/indexing.html#returning-a-view-versus-a-copy\n",
      "  df_train_phase2.drop(['ID_LAT_LON_YEAR_WEEK','Year','Week'], axis=1, inplace=True)\n"
     ]
    }
   ],
   "source": [
    "df_train_phase2.drop(['ID_LAT_LON_YEAR_WEEK','Year','Week'], axis=1, inplace=True)"
   ]
  },
  {
   "cell_type": "code",
   "execution_count": 153,
   "id": "c4592795",
   "metadata": {},
   "outputs": [
    {
     "name": "stdout",
     "output_type": "stream",
     "text": [
      "Training data length: 63218\n",
      "Testing data length: 15805\n"
     ]
    },
    {
     "name": "stderr",
     "output_type": "stream",
     "text": [
      "/var/folders/bt/yzv722jd4ln6fj7873tf5mn00000gn/T/ipykernel_65927/4060382242.py:1: SettingWithCopyWarning: \n",
      "A value is trying to be set on a copy of a slice from a DataFrame\n",
      "\n",
      "See the caveats in the documentation: https://pandas.pydata.org/pandas-docs/stable/user_guide/indexing.html#returning-a-view-versus-a-copy\n",
      "  df_train_phase2.sort_values(by='Date', inplace=True)\n"
     ]
    }
   ],
   "source": [
    "df_train_phase2.sort_values(by='Date', inplace=True)\n",
    "\n",
    "test_size = 0.2  # 20% of data for testing, you can adjust this as needed\n",
    "train_data, test_data = train_test_split(df_train_phase2['emission'], test_size=test_size, shuffle=False)\n",
    "\n",
    "# Print the lengths of training and testing sets\n",
    "print(\"Training data length:\", len(train_data))\n",
    "print(\"Testing data length:\", len(test_data))"
   ]
  },
  {
   "cell_type": "code",
   "execution_count": 154,
   "id": "3f7f1a02",
   "metadata": {},
   "outputs": [
    {
     "data": {
      "text/plain": [
       "Date\n",
       "2018-12-31      3.750994\n",
       "2018-12-31    205.550690\n",
       "Name: emission, dtype: float64"
      ]
     },
     "execution_count": 154,
     "metadata": {},
     "output_type": "execute_result"
    }
   ],
   "source": [
    "train_data.head(2)"
   ]
  },
  {
   "cell_type": "code",
   "execution_count": 155,
   "id": "682cf572",
   "metadata": {},
   "outputs": [
    {
     "name": "stderr",
     "output_type": "stream",
     "text": [
      "/Users/chandimajayamina/opt/anaconda3/lib/python3.9/site-packages/statsmodels/tsa/base/tsa_model.py:471: ValueWarning: A date index has been provided, but it has no associated frequency information and so will be ignored when e.g. forecasting.\n",
      "  self._init_dates(dates, freq)\n",
      "/Users/chandimajayamina/opt/anaconda3/lib/python3.9/site-packages/statsmodels/tsa/base/tsa_model.py:471: ValueWarning: A date index has been provided, but it has no associated frequency information and so will be ignored when e.g. forecasting.\n",
      "  self._init_dates(dates, freq)\n",
      "/Users/chandimajayamina/opt/anaconda3/lib/python3.9/site-packages/statsmodels/tsa/base/tsa_model.py:471: ValueWarning: A date index has been provided, but it has no associated frequency information and so will be ignored when e.g. forecasting.\n",
      "  self._init_dates(dates, freq)\n",
      "/Users/chandimajayamina/opt/anaconda3/lib/python3.9/site-packages/statsmodels/tsa/base/tsa_model.py:834: ValueWarning: No supported index is available. Prediction results will be given with an integer index beginning at `start`.\n",
      "  return get_prediction_index(\n"
     ]
    }
   ],
   "source": [
    "import numpy as np\n",
    "from statsmodels.tsa.arima.model import ARIMA\n",
    "from sklearn.metrics import mean_squared_error\n",
    "\n",
    "arima_model = ARIMA(train_data)\n",
    "fitted_model = arima_model.fit()\n",
    "\n",
    "# Forecast CO2 emissions for the testing period\n",
    "forecast_values = fitted_model.forecast(steps=len(test_data))"
   ]
  },
  {
   "cell_type": "code",
   "execution_count": 158,
   "id": "ac5c84fd",
   "metadata": {},
   "outputs": [
    {
     "name": "stdout",
     "output_type": "stream",
     "text": [
      "Mean Squared Error: 19586.330881236037\n"
     ]
    }
   ],
   "source": [
    "# Calculate the Mean Squared Error (MSE) as a performance metric\n",
    "mse = mean_squared_error(test_data, forecast_values)\n",
    "print(\"Mean Squared Error:\", mse)"
   ]
  },
  {
   "cell_type": "code",
   "execution_count": null,
   "id": "1ea561ca",
   "metadata": {},
   "outputs": [],
   "source": []
  },
  {
   "cell_type": "code",
   "execution_count": null,
   "id": "e19332c4",
   "metadata": {},
   "outputs": [],
   "source": []
  },
  {
   "cell_type": "code",
   "execution_count": null,
   "id": "47e97858",
   "metadata": {},
   "outputs": [],
   "source": []
  },
  {
   "cell_type": "code",
   "execution_count": null,
   "id": "82ca9229",
   "metadata": {},
   "outputs": [],
   "source": []
  },
  {
   "cell_type": "code",
   "execution_count": null,
   "id": "0ebc6530",
   "metadata": {},
   "outputs": [],
   "source": []
  }
 ],
 "metadata": {
  "kernelspec": {
   "display_name": "Python 3 (ipykernel)",
   "language": "python",
   "name": "python3"
  },
  "language_info": {
   "codemirror_mode": {
    "name": "ipython",
    "version": 3
   },
   "file_extension": ".py",
   "mimetype": "text/x-python",
   "name": "python",
   "nbconvert_exporter": "python",
   "pygments_lexer": "ipython3",
   "version": "3.9.13"
  }
 },
 "nbformat": 4,
 "nbformat_minor": 5
}
